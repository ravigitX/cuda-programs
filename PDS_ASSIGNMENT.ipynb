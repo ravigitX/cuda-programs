{
  "nbformat": 4,
  "nbformat_minor": 0,
  "metadata": {
    "colab": {
      "provenance": [],
      "gpuType": "T4",
      "authorship_tag": "ABX9TyOtv8F/32AIPeMgsuldiypP",
      "include_colab_link": true
    },
    "kernelspec": {
      "name": "python3",
      "display_name": "Python 3"
    },
    "language_info": {
      "name": "python"
    },
    "accelerator": "GPU"
  },
  "cells": [
    {
      "cell_type": "markdown",
      "metadata": {
        "id": "view-in-github",
        "colab_type": "text"
      },
      "source": [
        "<a href=\"https://colab.research.google.com/github/ravigitX/cuda-programs/blob/main/PDS_ASSIGNMENT.ipynb\" target=\"_parent\"><img src=\"https://colab.research.google.com/assets/colab-badge.svg\" alt=\"Open In Colab\"/></a>"
      ]
    },
    {
      "cell_type": "markdown",
      "source": [
        "# **PARALLEL REDUCTION**"
      ],
      "metadata": {
        "id": "QN9OrBmMQRiv"
      }
    },
    {
      "cell_type": "code",
      "execution_count": null,
      "metadata": {
        "colab": {
          "base_uri": "https://localhost:8080/"
        },
        "id": "fFuwTXQQF3Lo",
        "outputId": "7fa9f28c-7680-406f-a812-7b8206cf4d9d"
      },
      "outputs": [
        {
          "output_type": "stream",
          "name": "stdout",
          "text": [
            "Overwriting ParallelReduction.cu\n"
          ]
        }
      ],
      "source": [
        "%%writefile ParallelReduction.cu\n",
        "\n",
        "#include<stdio.h>\n",
        "#include<math.h>\n",
        "\n",
        "__global__ void parallel(int *a, int n)\n",
        "{\n",
        "  int i=threadIdx.x,j;\n",
        "  if(i< n/2)\n",
        "  {\n",
        "    int max = (int) ceil(log2((double)n)) ;\n",
        "    for(j=0; j<max; j++)\n",
        "    {\n",
        "      int u = pow(2,j);\n",
        "      int v = 2*i + u;\n",
        "      if(i%u == 0 && v<n)\n",
        "      {\n",
        "            a[2*i] += a[v];\n",
        "      }\n",
        "      __syncthreads();\n",
        "    }\n",
        "  }\n",
        "}\n",
        "int main()\n",
        "{\n",
        "\n",
        "  int *a, *da;\n",
        "  int i, n = 8, size=n*sizeof(int);\n",
        "\n",
        "  a= (int *)malloc(size);\n",
        "\n",
        "  for(i=0; i<n; i++)\n",
        "  {\n",
        "    a[i]=i+1;\n",
        "  }\n",
        "\n",
        "  printf(\"Original: \\n\");\n",
        "  for(i=0; i<n; i++)\n",
        "  {\n",
        "    printf(\"%d \",a[i]);\n",
        "  }\n",
        "  printf(\"\\n\");\n",
        "  cudaMalloc((void **)&da, size);\n",
        "  cudaMemcpy(da, a, size, cudaMemcpyHostToDevice);\n",
        "\n",
        "  parallel<<<1,n>>>(da,n);\n",
        "\n",
        "  cudaMemcpy(a, da, size, cudaMemcpyDeviceToHost);\n",
        "\n",
        "  printf(\"Sum: %d \",a[0]);\n",
        "  printf(\"\\n\");\n",
        "\n",
        "  free(a);\n",
        "  cudaFree(da);\n",
        "\n",
        "  return 0;\n",
        "\n",
        "  }\n"
      ]
    },
    {
      "cell_type": "code",
      "source": [
        "!nvcc -arch=sm_75 ParallelReduction.cu -o ParallelReduction\n",
        "!./ParallelReduction"
      ],
      "metadata": {
        "colab": {
          "base_uri": "https://localhost:8080/"
        },
        "id": "f9-7lTAwGJXm",
        "outputId": "4b50265f-7d32-4825-80f0-60413eb27497"
      },
      "execution_count": null,
      "outputs": [
        {
          "output_type": "stream",
          "name": "stdout",
          "text": [
            "Original: \n",
            "1 2 3 4 5 6 7 8 \n",
            "Sum: 36 \n"
          ]
        }
      ]
    },
    {
      "cell_type": "markdown",
      "source": [
        "# **PREFIX SUM**"
      ],
      "metadata": {
        "id": "0Vau9KkVQcKV"
      }
    },
    {
      "cell_type": "code",
      "source": [
        "%%writefile Prefixsum.cu\n",
        "#include <stdio.h>\n",
        "\n",
        "__global__ void prefixSum(int *a, int *b, int n) {\n",
        "    int i = threadIdx.x;  // works only for single block\n",
        "    if(i < n) {\n",
        "        int sum = 0;\n",
        "        for(int j=0; j<=i; j++)\n",
        "            sum += a[j];\n",
        "        b[i] = sum;\n",
        "    }\n",
        "}\n",
        "\n",
        "int main() {\n",
        "    int a[] = {1,2,3,4,5};\n",
        "    int n = sizeof(a)/sizeof(a[0]);\n",
        "    int b[n];\n",
        "\n",
        "    int *da, *db;\n",
        "    cudaMalloc(&da, n*sizeof(int));\n",
        "    cudaMalloc(&db, n*sizeof(int));\n",
        "    cudaMemcpy(da, a, n*sizeof(int), cudaMemcpyHostToDevice);\n",
        "\n",
        "    prefixSum<<<1, n>>>(da, db, n);\n",
        "    cudaDeviceSynchronize();\n",
        "\n",
        "    cudaMemcpy(b, db, n*sizeof(int), cudaMemcpyDeviceToHost);\n",
        "\n",
        "    printf(\"Prefix Sum: \");\n",
        "    for(int i=0; i<n; i++)\n",
        "        printf(\"%d \", b[i]);\n",
        "    printf(\"\\n\");\n",
        "\n",
        "    cudaFree(da);\n",
        "    cudaFree(db);\n",
        "    return 0;\n",
        "}\n"
      ],
      "metadata": {
        "colab": {
          "base_uri": "https://localhost:8080/"
        },
        "id": "GR7zDYQVH5xN",
        "outputId": "9907e3f6-54d2-4005-d693-5bedf0baa206"
      },
      "execution_count": null,
      "outputs": [
        {
          "output_type": "stream",
          "name": "stdout",
          "text": [
            "Overwriting Prefixsum.cu\n"
          ]
        }
      ]
    },
    {
      "cell_type": "code",
      "source": [
        "!nvcc -arch=sm_75 Prefixsum.cu -o Prefixsum\n",
        "!./Prefixsum"
      ],
      "metadata": {
        "colab": {
          "base_uri": "https://localhost:8080/"
        },
        "id": "FHbYYVA1H5uS",
        "outputId": "85fe84f0-f3fa-405d-f9ed-9f400c5fe17d"
      },
      "execution_count": null,
      "outputs": [
        {
          "output_type": "stream",
          "name": "stdout",
          "text": [
            "Prefix Sum: 1 3 6 10 15 \n"
          ]
        }
      ]
    },
    {
      "cell_type": "markdown",
      "source": [
        "# **SUFFIX SUM**"
      ],
      "metadata": {
        "id": "O7O0j2R9Qgs5"
      }
    },
    {
      "cell_type": "code",
      "source": [
        "%%writefile Suffixsum.cu\n",
        "\n",
        "#include<stdio.h>\n",
        "\n",
        "__global__ void prefixSum(int *a, int *b, int n)\n",
        "{\n",
        "  int i = threadIdx.x,j,sum=0;\n",
        "  if(i<n)\n",
        "  {\n",
        "    for(j=n-1; j>=i; j--)\n",
        "      sum += (a[j]);\n",
        "    __syncthreads();\n",
        "    b[i] = sum;\n",
        "  }\n",
        "}\n",
        "\n",
        "int main()\n",
        "{\n",
        "  int a[] = {1, 2, 3, 4, 5};\n",
        "  int n = sizeof(a)/sizeof(a[0]);\n",
        "\n",
        "  int *da, b[n], *db,i;\n",
        "\n",
        "  cudaMalloc(&da, n*sizeof(int));\n",
        "  cudaMalloc(&db, n*sizeof(int));\n",
        "  cudaMemcpy(da, a, n*sizeof(int), cudaMemcpyHostToDevice);\n",
        "\n",
        "  prefixSum<<<1, n>>>(da,db,n);\n",
        "\n",
        "  cudaMemcpy(b, db, n*sizeof(int), cudaMemcpyDeviceToHost);\n",
        "\n",
        "  for(i=0; i<n; i++)\n",
        "    printf(\"%d \",b[i]);\n",
        "  printf(\"\\n\");\n",
        "\n",
        "  cudaFree(da);\n",
        "  cudaFree(db);\n",
        "  return 0;\n",
        "\n",
        "}\n"
      ],
      "metadata": {
        "colab": {
          "base_uri": "https://localhost:8080/"
        },
        "id": "h5fidn0nH5rS",
        "outputId": "f8de59b7-ff3b-4af1-8835-b6db9713eccf"
      },
      "execution_count": null,
      "outputs": [
        {
          "output_type": "stream",
          "name": "stdout",
          "text": [
            "Overwriting Suffixsum.cu\n"
          ]
        }
      ]
    },
    {
      "cell_type": "code",
      "source": [
        "!nvcc -arch=sm_75 Suffixsum.cu -o Suffixsum\n",
        "!./Suffixsum\n"
      ],
      "metadata": {
        "colab": {
          "base_uri": "https://localhost:8080/"
        },
        "id": "L2B6VZbtH5oa",
        "outputId": "7479c846-adbc-4182-927e-8cc944f87aac"
      },
      "execution_count": null,
      "outputs": [
        {
          "output_type": "stream",
          "name": "stdout",
          "text": [
            "15 14 12 9 5 \n"
          ]
        }
      ]
    },
    {
      "cell_type": "markdown",
      "source": [
        "# **PALINDROM**"
      ],
      "metadata": {
        "id": "Q6gvENNXQlEp"
      }
    },
    {
      "cell_type": "code",
      "source": [
        "%%writefile Palindrome.cu\n",
        "\n",
        "#include <stdio.h>\n",
        "#include <cuda.h>\n",
        "#include <string.h>\n",
        "\n",
        "__global__ void check(char *str, int n, int *flag) {\n",
        "    int i = threadIdx.x + blockIdx.x * blockDim.x;\n",
        "    if(i < n/2) {\n",
        "        if(str[i] != str[n-1-i]) {\n",
        "            *flag = 0;\n",
        "        }\n",
        "    }\n",
        "}\n",
        "\n",
        "int main(){\n",
        "    char hstr[] = \"racecar\";\n",
        "    int n = strlen(hstr);\n",
        "\n",
        "    char *dstr;\n",
        "    int *dflag, hflag = 1;\n",
        "\n",
        "    cudaMalloc((void **)&dflag, sizeof(int));\n",
        "    cudaMemcpy(dflag, &hflag, sizeof(int), cudaMemcpyHostToDevice);\n",
        "\n",
        "    cudaMalloc((void **)&dstr, n*sizeof(char));\n",
        "    cudaMemcpy(dstr, hstr, n*sizeof(char), cudaMemcpyHostToDevice);\n",
        "\n",
        "    int threads = n/2;\n",
        "    if(threads == 0) threads = 1;\n",
        "\n",
        "    check<<<1, threads>>>(dstr, n, dflag);\n",
        "    cudaDeviceSynchronize();\n",
        "\n",
        "    cudaMemcpy(&hflag, dflag, sizeof(int), cudaMemcpyDeviceToHost);\n",
        "\n",
        "    if(hflag) {\n",
        "        printf(\"The string \\\"%s\\\" is a palindrome.\\n\", hstr);\n",
        "    } else {\n",
        "        printf(\"The string \\\"%s\\\" is NOT a palindrome.\\n\", hstr);\n",
        "    }\n",
        "\n",
        "    cudaFree(dstr);\n",
        "    cudaFree(dflag);\n",
        "\n",
        "    return 0;\n",
        "}\n",
        "\n"
      ],
      "metadata": {
        "colab": {
          "base_uri": "https://localhost:8080/"
        },
        "id": "eK7EhEMcH5lS",
        "outputId": "d73f4f68-a95e-48d3-cda7-cfb447637a39"
      },
      "execution_count": null,
      "outputs": [
        {
          "output_type": "stream",
          "name": "stdout",
          "text": [
            "Overwriting Palindrome.cu\n"
          ]
        }
      ]
    },
    {
      "cell_type": "code",
      "source": [
        "!nvcc -arch=sm_75 Palindrome.cu -o Palindrome\n",
        "!./Palindrome\n"
      ],
      "metadata": {
        "colab": {
          "base_uri": "https://localhost:8080/"
        },
        "id": "ArrYHi2JH5fr",
        "outputId": "1706b084-b9d7-4025-d67c-404626bb667c"
      },
      "execution_count": null,
      "outputs": [
        {
          "output_type": "stream",
          "name": "stdout",
          "text": [
            "The string \"racecar\" is a palindrome.\n"
          ]
        }
      ]
    },
    {
      "cell_type": "markdown",
      "source": [
        "# **ENUMERATION SORT**"
      ],
      "metadata": {
        "id": "ovaeN-WxQtc9"
      }
    },
    {
      "cell_type": "code",
      "source": [
        "%%writefile EnumerationSort.cu\n",
        "\n",
        "#include <stdio.h>\n",
        "#include <cuda.h>\n",
        "#define n 9\n",
        "\n",
        "__global__ void enumeration(int *a, int *b)\n",
        "{\n",
        "    int idx = threadIdx.x, j;\n",
        "    if(idx < n)\n",
        "    {\n",
        "        int c = 0;\n",
        "        int curr = a[idx];\n",
        "        for(j = 0; j < n; j++)\n",
        "        {\n",
        "            if(a[j] < curr || (a[j] == curr && j < idx)) // FIXED here\n",
        "                c++;\n",
        "        }\n",
        "        b[c] = curr;\n",
        "    }\n",
        "}\n",
        "\n",
        "int main()\n",
        "{\n",
        "    int a[] = {9,8,7,6,5,4,3,2,1}, *da, b[n], *db;\n",
        "    int size = n * sizeof(int), i;\n",
        "\n",
        "    cudaMalloc((void **)&da, size);\n",
        "    cudaMalloc((void **)&db, size);\n",
        "\n",
        "    cudaMemcpy(da, a, size, cudaMemcpyHostToDevice);\n",
        "\n",
        "    enumeration<<<1, n>>>(da, db);\n",
        "    cudaDeviceSynchronize();\n",
        "\n",
        "    cudaMemcpy(b, db, size, cudaMemcpyDeviceToHost);\n",
        "\n",
        "    for(i = 0; i < n; i++)\n",
        "        printf(\"%d \", b[i]);\n",
        "    printf(\"\\n\");\n",
        "\n",
        "    cudaFree(da);\n",
        "    cudaFree(db);\n",
        "\n",
        "    return 0;\n",
        "}\n"
      ],
      "metadata": {
        "colab": {
          "base_uri": "https://localhost:8080/"
        },
        "id": "CdcF19I0H5dN",
        "outputId": "54308854-aa93-4ddb-fd4c-325df9e5ad09"
      },
      "execution_count": null,
      "outputs": [
        {
          "output_type": "stream",
          "name": "stdout",
          "text": [
            "Overwriting EnumerationSort.cu\n"
          ]
        }
      ]
    },
    {
      "cell_type": "code",
      "source": [
        "!nvcc -arch=sm_75 EnumerationSort.cu -o EnumerationSort\n",
        "!./EnumerationSort\n"
      ],
      "metadata": {
        "colab": {
          "base_uri": "https://localhost:8080/"
        },
        "id": "lJyS4szhH5ak",
        "outputId": "77ea358d-1301-4847-c7c5-00e02f38c914"
      },
      "execution_count": null,
      "outputs": [
        {
          "output_type": "stream",
          "name": "stdout",
          "text": [
            "1 2 3 4 5 6 7 8 9 \n"
          ]
        }
      ]
    },
    {
      "cell_type": "markdown",
      "source": [
        "# **ODD-EVEN SORT**"
      ],
      "metadata": {
        "id": "N45UaH7TQxpX"
      }
    },
    {
      "cell_type": "code",
      "source": [
        "%%writefile OddEven.cu\n",
        "\n",
        "#include<stdio.h>\n",
        "#include<cuda.h>\n",
        "#define n 9\n",
        "__global__ void oddeven(int *a)\n",
        "{\n",
        "  int tid=threadIdx.x, i, t;\n",
        "  for(i=1; i<=n/2 + 1; i++)\n",
        "  {\n",
        "    if(tid<n-1 && tid%2 == 1)\n",
        "    {\n",
        "      t = a[tid+1];\n",
        "      a[tid+1] = max(a[tid],t);\n",
        "      a[tid] = min(a[tid],t);\n",
        "    }\n",
        "    __syncthreads();\n",
        "    if(tid<n-1 && tid%2 == 0)\n",
        "    {\n",
        "      t = a[tid+1];\n",
        "      a[tid+1] = max(a[tid],t);\n",
        "      a[tid] = min(a[tid],t);\n",
        "    }\n",
        "    __syncthreads();\n",
        "  }\n",
        "}\n",
        "\n",
        "int main()\n",
        "{\n",
        "  int a[] = {9,8,7,6,5,4,3,2,1}, *da, size = n*sizeof(int),i;\n",
        "  cudaMalloc((void **)&da, size);\n",
        "  cudaMemcpy(da,a,size,cudaMemcpyHostToDevice);\n",
        "  oddeven<<<1,n>>>(da);\n",
        "  cudaMemcpy(a,da,size,cudaMemcpyDeviceToHost);\n",
        "  for(i=0; i<n; i++)\n",
        "    printf(\"%d \",a[i]);\n",
        "  printf(\"\\n\");\n",
        "  return 0;\n",
        "}\n"
      ],
      "metadata": {
        "colab": {
          "base_uri": "https://localhost:8080/"
        },
        "id": "rewxYor8H5Xn",
        "outputId": "602f7a3a-2605-416d-b55b-4fe21794ae9c"
      },
      "execution_count": null,
      "outputs": [
        {
          "output_type": "stream",
          "name": "stdout",
          "text": [
            "Overwriting OddEven.cu\n"
          ]
        }
      ]
    },
    {
      "cell_type": "code",
      "source": [
        "!nvcc -arch=sm_75 OddEven.cu -o OddEven\n",
        "!./OddEven\n"
      ],
      "metadata": {
        "colab": {
          "base_uri": "https://localhost:8080/"
        },
        "id": "N7Iw532qH5U7",
        "outputId": "7a3102a8-154a-4817-dffd-90d8533dfc34"
      },
      "execution_count": null,
      "outputs": [
        {
          "output_type": "stream",
          "name": "stdout",
          "text": [
            "1 2 3 4 5 6 7 8 9 \n"
          ]
        }
      ]
    },
    {
      "cell_type": "markdown",
      "source": [
        "# **VECTOR**"
      ],
      "metadata": {
        "id": "oEnvXngtQ26q"
      }
    },
    {
      "cell_type": "code",
      "source": [
        "%%writefile Vector.cu\n",
        "#include <stdio.h>\n",
        "#include <cuda.h>\n",
        "\n",
        "__device__ int gcdfunc(int a,int b){\n",
        "  if(b==0) return a;\n",
        "  return gcdfunc(b,a%b);\n",
        "}\n",
        "__device__ int lcmfunc(int a,int b){\n",
        "  if(a == 0 || b == 0) return 0;\n",
        "  return (a/gcdfunc(a,b))*b;\n",
        "}\n",
        "\n",
        "__global__ void Vector(int *a,int *b,int *max,int *min,int *gcd,int *lcm,int n){\n",
        "  int id = blockIdx.x*blockDim.x+threadIdx.x;\n",
        "  if(id >= n) return;\n",
        "\n",
        "  int aa = a[id];\n",
        "  int bb = b[id];\n",
        "\n",
        "  max[id] = (aa > bb) ? aa : bb;\n",
        "  min[id] = (aa < bb) ? aa : bb;\n",
        "  gcd[id] = gcdfunc(aa,bb);\n",
        "  lcm[id] = lcmfunc(aa,bb);\n",
        "}\n",
        "\n",
        "int main(){\n",
        "  int n = 6;\n",
        "\n",
        "  int a[] = {12,18,25,40,7,15};\n",
        "  int b[] = {8,24,30,10,21,5};\n",
        "\n",
        "  int *da,*db,*dmax,*dmin,*dgcd,*dlcm;\n",
        "  int hmax[n],hmin[n],hgcd[n],hlcm[n];\n",
        "\n",
        "  cudaMalloc((void **)&da, n*sizeof(int));\n",
        "  cudaMalloc((void **)&db, n*sizeof(int));\n",
        "  cudaMalloc((void **)&dmax, n*sizeof(int));\n",
        "  cudaMalloc((void **)&dmin, n*sizeof(int));\n",
        "  cudaMalloc((void **)&dgcd, n*sizeof(int));\n",
        "  cudaMalloc((void **)&dlcm, n*sizeof(int));\n",
        "\n",
        "  cudaMemcpy(da,a,n*sizeof(int),cudaMemcpyHostToDevice);\n",
        "  cudaMemcpy(db,b,n*sizeof(int),cudaMemcpyHostToDevice);\n",
        "\n",
        "  Vector<<<1,n>>>(da,db,dmax,dmin,dgcd,dlcm,n);\n",
        "  cudaDeviceSynchronize();\n",
        "\n",
        "  cudaMemcpy(hmax,dmax,n*sizeof(int),cudaMemcpyDeviceToHost);\n",
        "  cudaMemcpy(hmin,dmin,n*sizeof(int),cudaMemcpyDeviceToHost);\n",
        "  cudaMemcpy(hgcd,dgcd,n*sizeof(int),cudaMemcpyDeviceToHost);\n",
        "  cudaMemcpy(hlcm,dlcm,n*sizeof(int),cudaMemcpyDeviceToHost);\n",
        "\n",
        "  printf(\"\\nA:    \");\n",
        "  for(int i=0;i<n;i++) printf(\"%d \",a[i]);\n",
        "\n",
        "  printf(\"\\nB:    \");\n",
        "  for(int i=0;i<n;i++) printf(\"%d \",b[i]);\n",
        "\n",
        "  printf(\"\\nMax:  \");\n",
        "  for(int i=0;i<n;i++) printf(\"%d \",hmax[i]);\n",
        "\n",
        "  printf(\"\\nMin:  \");\n",
        "  for(int i=0;i<n;i++) printf(\"%d \",hmin[i]);\n",
        "\n",
        "  printf(\"\\nGCD:  \");\n",
        "  for(int i=0;i<n;i++) printf(\"%d \",hgcd[i]);\n",
        "\n",
        "  printf(\"\\nLCM:  \");\n",
        "  for(int i=0;i<n;i++) printf(\"%d \",hlcm[i]);\n",
        "\n",
        "  printf(\"\\n\");\n",
        "\n",
        "  cudaFree(da);\n",
        "  cudaFree(db);\n",
        "  cudaFree(dmax);\n",
        "  cudaFree(dmin);\n",
        "  cudaFree(dgcd);\n",
        "  cudaFree(dlcm);\n",
        "\n",
        "  return 0;\n",
        "}\n"
      ],
      "metadata": {
        "colab": {
          "base_uri": "https://localhost:8080/"
        },
        "id": "RV8dIDjvH5SN",
        "outputId": "b4acb71a-767b-433e-a5dd-409bc2345f36"
      },
      "execution_count": null,
      "outputs": [
        {
          "output_type": "stream",
          "name": "stdout",
          "text": [
            "Overwriting Vector.cu\n"
          ]
        }
      ]
    },
    {
      "cell_type": "code",
      "source": [
        "!nvcc -arch=sm_75 Vector.cu -o Vector\n",
        "!./Vector\n"
      ],
      "metadata": {
        "colab": {
          "base_uri": "https://localhost:8080/"
        },
        "id": "RRMVN0WHLMGU",
        "outputId": "fca0c6f2-5c9b-49ec-8510-0698e9450d77"
      },
      "execution_count": null,
      "outputs": [
        {
          "output_type": "stream",
          "name": "stdout",
          "text": [
            "\n",
            "A:    12 18 25 40 7 15 \n",
            "B:    8 24 30 10 21 5 \n",
            "Max:  12 24 30 40 21 15 \n",
            "Min:  8 18 25 10 7 5 \n",
            "GCD:  4 6 5 10 7 5 \n",
            "LCM:  24 72 150 40 21 15 \n"
          ]
        }
      ]
    },
    {
      "cell_type": "markdown",
      "source": [
        "# **CONSTANT MEMORY**"
      ],
      "metadata": {
        "id": "qwgX1T9FQ6yy"
      }
    },
    {
      "cell_type": "code",
      "source": [
        "%%writefile Constant.cu\n",
        "\n",
        "#include<stdio.h>\n",
        "#define n 10\n",
        "\n",
        "__constant__ float arr[100];\n",
        "__global__ void constantmem(float *b, int num)\n",
        "{\n",
        "  int i=threadIdx.x;\n",
        "  if(i<num-1)\n",
        "    b[i] = (arr[i] + arr[i+1])/2.0f;\n",
        "}\n",
        "\n",
        "int main()\n",
        "{\n",
        "  float *a, *b, *db;\n",
        "  int num , i;\n",
        "\n",
        "  printf(\"No of elements? \");\n",
        "  scanf(\"%d\", &num);\n",
        "\n",
        "  int in = num * sizeof(float);\n",
        "  int out = (num-1)*sizeof(float);\n",
        "\n",
        "  a = (float *)malloc(in);\n",
        "  b = (float *)malloc(out);\n",
        "\n",
        "  for(i=0; i<num; i++)\n",
        "    a[i] = i+1;\n",
        "  for(i=0; i<num-1; i++)\n",
        "    b[i] = 0.0f;\n",
        "\n",
        "  cudaMalloc((void **)&db, out);\n",
        "  cudaMemcpyToSymbol(arr,a,in);\n",
        "  cudaMemcpy(db,b,out,cudaMemcpyHostToDevice);\n",
        "\n",
        "  constantmem<<<1,num>>>(db,num);\n",
        "  cudaDeviceSynchronize();\n",
        "\n",
        "  cudaMemcpy(b,db,out,cudaMemcpyDeviceToHost);\n",
        "\n",
        "  for(i=0; i<num-1; i++)\n",
        "    printf(\"%f \",b[i]);\n",
        "  printf(\"\\n\");\n",
        "\n",
        "  free(a);\n",
        "  free(b);\n",
        "  cudaFree(db);\n",
        "  return 0;\n",
        "\n",
        "}"
      ],
      "metadata": {
        "colab": {
          "base_uri": "https://localhost:8080/"
        },
        "id": "a-NhUWUTLMDg",
        "outputId": "9610597d-6ae2-40b0-f99d-492186c0b700"
      },
      "execution_count": null,
      "outputs": [
        {
          "output_type": "stream",
          "name": "stdout",
          "text": [
            "Overwriting Constant.cu\n"
          ]
        }
      ]
    },
    {
      "cell_type": "code",
      "source": [
        "!nvcc -arch=sm_75 Constant.cu -o Constant\n",
        "!./Constant\n"
      ],
      "metadata": {
        "colab": {
          "base_uri": "https://localhost:8080/"
        },
        "id": "FKUF8NylLMAj",
        "outputId": "8ae62e06-2380-4072-c47a-43bb311a66e7"
      },
      "execution_count": null,
      "outputs": [
        {
          "output_type": "stream",
          "name": "stdout",
          "text": [
            "No of elements? 10\n",
            "1.500000 2.500000 3.500000 4.500000 5.500000 6.500000 7.500000 8.500000 9.500000 \n"
          ]
        }
      ]
    },
    {
      "cell_type": "markdown",
      "source": [
        "# **PRIME NUMBER GENERATION**"
      ],
      "metadata": {
        "id": "nC1_T417RGxi"
      }
    },
    {
      "cell_type": "code",
      "source": [
        "%%writefile PrimeNumberGeneration.cu\n",
        "\n",
        "#include <stdio.h>\n",
        "#include <cuda.h>\n",
        "#include <math.h>\n",
        "\n",
        "__global__ void genaratePrime(int *p,int n){\n",
        "  int id = threadIdx.x;\n",
        "  if(id < 2){\n",
        "    p[id] = 0;\n",
        "    return ;\n",
        "  }\n",
        "\n",
        "  int isprime = 1;\n",
        "\n",
        "  for(int i=2;i*i <= id;i++){\n",
        "    if(id % i == 0){\n",
        "      isprime = 0;\n",
        "      break;\n",
        "    }\n",
        "  }\n",
        "\n",
        "  p[id] = isprime;\n",
        "}\n",
        "\n",
        "int main(){\n",
        "  int size = 100;\n",
        "\n",
        "  int *h_prime;\n",
        "  int *d_prime;\n",
        "\n",
        "  h_prime = (int*)malloc(sizeof(int) * size);\n",
        "\n",
        "  cudaMalloc((void**)&d_prime,sizeof(int) * size);\n",
        "\n",
        "  genaratePrime<<<1,size>>>(d_prime,size);\n",
        "\n",
        "  cudaMemcpy(h_prime,d_prime,size * sizeof(int),cudaMemcpyDeviceToHost);\n",
        "\n",
        "  printf(\"prime numbers [1-100] : \\n\");\n",
        "  for(int i = 2;i <= size;i++){\n",
        "    if(h_prime[i] == 1){\n",
        "      printf(\"%d \",i);\n",
        "    }\n",
        "  }\n",
        "  printf(\"\\n\");\n",
        "\n",
        "  free(h_prime);\n",
        "  cudaFree(d_prime);\n",
        "\n",
        "  return 0;\n",
        "\n",
        "}"
      ],
      "metadata": {
        "colab": {
          "base_uri": "https://localhost:8080/"
        },
        "id": "27R5C5VjLL9v",
        "outputId": "ad161f0f-652c-4c36-850b-d438b762e232"
      },
      "execution_count": null,
      "outputs": [
        {
          "output_type": "stream",
          "name": "stdout",
          "text": [
            "Overwriting PrimeNumberGeneration.cu\n"
          ]
        }
      ]
    },
    {
      "cell_type": "code",
      "source": [
        "!nvcc -arch=sm_75 PrimeNumberGeneration.cu -o PrimeNumberGeneration\n",
        "!./PrimeNumberGeneration\n"
      ],
      "metadata": {
        "colab": {
          "base_uri": "https://localhost:8080/"
        },
        "id": "MFK7TYOTLL6s",
        "outputId": "37ea80c9-ebcd-450a-a775-a56779c00b1f"
      },
      "execution_count": null,
      "outputs": [
        {
          "output_type": "stream",
          "name": "stdout",
          "text": [
            "prime numbers [1-100] : \n",
            "2 3 5 7 11 13 17 19 23 29 31 37 41 43 47 53 59 61 67 71 73 79 83 89 97 \n"
          ]
        }
      ]
    },
    {
      "cell_type": "markdown",
      "source": [
        "# **ARMSTRONG NUMBER**"
      ],
      "metadata": {
        "id": "cFLha1BNRLuT"
      }
    },
    {
      "cell_type": "code",
      "source": [
        "%%writefile Armstrong.cu\n",
        "\n",
        "#include <stdio.h>\n",
        "#include <cuda.h>\n",
        "#include <math.h>\n",
        "\n",
        "__global__ void gernerateArmstrong(int *d,int n){\n",
        "  int id = threadIdx.x;\n",
        "\n",
        "  if(id > n) return;\n",
        "\n",
        "  int num = id;\n",
        "  int temp = num;\n",
        "  int digit = 0;\n",
        "\n",
        "  while(temp > 0){digit++; temp /= 10;}\n",
        "\n",
        "  temp = num;\n",
        "  int sum = 0;\n",
        "\n",
        "  while(temp > 0){\n",
        "    int r = temp % 10;\n",
        "    sum += (int)powf(r,digit);\n",
        "    temp /= 10;\n",
        "  }\n",
        "\n",
        "  if(num == sum && num > 0){\n",
        "    d[id] = 1;\n",
        "  }\n",
        "  else{\n",
        "    d[id] = 0;\n",
        "  }\n",
        "\n",
        "}\n",
        "\n",
        "int main(){\n",
        "  int n = 500;\n",
        "\n",
        "  int *host = (int*)malloc(n*sizeof(int));\n",
        "  int *device;\n",
        "\n",
        "  cudaMalloc((void**)&device,sizeof(int)*n);\n",
        "\n",
        "  gernerateArmstrong<<<1,n>>>(device,n);\n",
        "  cudaDeviceSynchronize();\n",
        "\n",
        "  cudaMemcpy(host,device,sizeof(int)*n,cudaMemcpyDeviceToHost);\n",
        "\n",
        "  printf(\"\\n Armstrong number are : \");\n",
        "\n",
        "  for(int i=1;i<=n;i++){\n",
        "    if(host[i] == 1){\n",
        "      printf(\"%d \",i);\n",
        "    }\n",
        "  }\n",
        "\n",
        "  free(host);\n",
        "\n",
        "  cudaFree(device);\n",
        "\n",
        "  return 0;\n",
        "}\n"
      ],
      "metadata": {
        "colab": {
          "base_uri": "https://localhost:8080/"
        },
        "id": "_GBA9tlRLL3r",
        "outputId": "97ad28f3-3a8e-44e0-b5a0-111ef75a6f86"
      },
      "execution_count": null,
      "outputs": [
        {
          "output_type": "stream",
          "name": "stdout",
          "text": [
            "Overwriting Armstrong.cu\n"
          ]
        }
      ]
    },
    {
      "cell_type": "code",
      "source": [
        "!nvcc -arch=sm_75 Armstrong.cu -o Armstrong\n",
        "!./Armstrong\n"
      ],
      "metadata": {
        "colab": {
          "base_uri": "https://localhost:8080/"
        },
        "id": "YbEtaHY9LL0l",
        "outputId": "5f5c1362-9b36-4e7c-cea6-c41d1d266dcb"
      },
      "execution_count": null,
      "outputs": [
        {
          "output_type": "stream",
          "name": "stdout",
          "text": [
            "\n",
            " Armstrong number are : 1 2 3 4 5 6 7 8 9 153 370 371 407 "
          ]
        }
      ]
    },
    {
      "cell_type": "markdown",
      "source": [
        "# **NEON NUMBER GENERATION**"
      ],
      "metadata": {
        "id": "uqYSctBYRRZp"
      }
    },
    {
      "cell_type": "code",
      "source": [
        "%%writefile Neon.cu\n",
        "\n",
        "#include <stdio.h>\n",
        "#include <cuda.h>\n",
        "#include <math.h>\n",
        "\n",
        "__global__ void generateNeon(int *d,int n){\n",
        "  int id = threadIdx.x;\n",
        "\n",
        "  if(id > n) return;\n",
        "\n",
        "  int sq = id * id;\n",
        "\n",
        "  int temp = sq;\n",
        "  int sum = 0;\n",
        "\n",
        "  while(temp > 0){\n",
        "    int r = temp % 10;\n",
        "    sum += r;\n",
        "    temp /= 10;\n",
        "  }\n",
        "\n",
        "  if(sum == id){\n",
        "    d[id] = 1;\n",
        "  }\n",
        "  else{\n",
        "    d[id] = 0;\n",
        "  }\n",
        "\n",
        "}\n",
        "\n",
        "int main(){\n",
        "  int n = 100;\n",
        "\n",
        "  int *host = (int*)malloc(sizeof(int)*n);\n",
        "  int *device;\n",
        "  cudaMalloc((void**)&device,sizeof(int)*n);\n",
        "\n",
        "  generateNeon<<<1,n>>>(device,n);\n",
        "\n",
        "  cudaDeviceSynchronize();\n",
        "\n",
        "  cudaMemcpy(host,device,sizeof(int)*n,cudaMemcpyDeviceToHost);\n",
        "\n",
        "  printf(\"\\n Neon Number are : \");\n",
        "\n",
        "  for(int i=1;i<=n;i++){\n",
        "    if(host[i] == 1)\n",
        "    printf(\"%d \",i);\n",
        "  }\n",
        "\n",
        "  free(host);\n",
        "  cudaFree(device);\n",
        "\n",
        "  return 0;\n",
        "}\n"
      ],
      "metadata": {
        "colab": {
          "base_uri": "https://localhost:8080/"
        },
        "id": "CXg5qINeMF6F",
        "outputId": "44c22503-537e-42ee-8be1-dd8d0bebe7a1"
      },
      "execution_count": null,
      "outputs": [
        {
          "output_type": "stream",
          "name": "stdout",
          "text": [
            "Overwriting Neon.cu\n"
          ]
        }
      ]
    },
    {
      "cell_type": "code",
      "source": [
        "!nvcc -arch=sm_75 Neon.cu -o Neon\n",
        "!./Neon\n"
      ],
      "metadata": {
        "colab": {
          "base_uri": "https://localhost:8080/"
        },
        "id": "HBOzXtmjMF1g",
        "outputId": "c6dd3595-8230-4c7c-ab88-1022e9b3a859"
      },
      "execution_count": null,
      "outputs": [
        {
          "output_type": "stream",
          "name": "stdout",
          "text": [
            "\n",
            " Neon Number are : 1 9 "
          ]
        }
      ]
    },
    {
      "cell_type": "markdown",
      "source": [
        "# **PERFECT NUMBER GENERATION**"
      ],
      "metadata": {
        "id": "xDPuK9wURX0H"
      }
    },
    {
      "cell_type": "code",
      "source": [
        "%%writefile PerfectNumber.cu\n",
        "\n",
        "#include <stdio.h>\n",
        "#include <cuda.h>\n",
        "#include <math.h>\n",
        "\n",
        "__global__ void PerfectNumber(int *d,int n){\n",
        "  int id = threadIdx.x;\n",
        "  if(id >= n || id < 2) return;\n",
        "  int sum = 1;\n",
        "\n",
        "  for(int i=2;i<=id/2;i++){\n",
        "    if(id % i == 0){\n",
        "      sum += i;\n",
        "    }\n",
        "  }\n",
        "\n",
        "  if(sum == id){\n",
        "    d[id] = 1;\n",
        "  }\n",
        "  else{\n",
        "    d[id] = 0;\n",
        "  }\n",
        "}\n",
        "\n",
        "int main(){\n",
        "  int n = 100;\n",
        "\n",
        "  int *host;\n",
        "  host = (int*)malloc(sizeof(int)*n);\n",
        "  int *device;\n",
        "\n",
        "  cudaMalloc((void**)&device,sizeof(int)*n);\n",
        "\n",
        "  PerfectNumber<<<1,100>>>(device,n);\n",
        "\n",
        "  cudaMemcpy(host,device,sizeof(int)*n,cudaMemcpyDeviceToHost);\n",
        "\n",
        "  printf(\"\\n Perfect Number are : \");\n",
        "  for(int i=1;i<=n;i++){\n",
        "    if(host[i] == 1){\n",
        "      printf(\"%d \",i);\n",
        "    }\n",
        "  }\n",
        "\n",
        "  free(host);\n",
        "  cudaFree(device);\n",
        "\n",
        "  return 0;\n",
        "}\n"
      ],
      "metadata": {
        "colab": {
          "base_uri": "https://localhost:8080/"
        },
        "id": "EdI5Zr_aMFyu",
        "outputId": "2f9286b4-12bf-41c7-89ea-9d606c74c3f7"
      },
      "execution_count": null,
      "outputs": [
        {
          "output_type": "stream",
          "name": "stdout",
          "text": [
            "Overwriting PerfectNumber.cu\n"
          ]
        }
      ]
    },
    {
      "cell_type": "code",
      "source": [
        "!nvcc -arch=sm_75 PerfectNumber.cu -o PerfectNumber\n",
        "\n",
        "!./PerfectNumber\n"
      ],
      "metadata": {
        "colab": {
          "base_uri": "https://localhost:8080/"
        },
        "id": "XKCoBIGoMFvt",
        "outputId": "f506f464-10b7-4ff0-a732-dea78765df71"
      },
      "execution_count": null,
      "outputs": [
        {
          "output_type": "stream",
          "name": "stdout",
          "text": [
            "\n",
            " Perfect Number are : 6 28 "
          ]
        }
      ]
    },
    {
      "cell_type": "markdown",
      "source": [
        "# **INTERNAL MARK**"
      ],
      "metadata": {
        "id": "olXyXEq5RdQ5"
      }
    },
    {
      "cell_type": "code",
      "source": [
        "%%writefile InternalMark.cu\n",
        "#include <stdio.h>\n",
        "#include <cuda.h>\n",
        "#define n 20\n",
        "\n",
        "__global__ void calculate(int *a, int *b, int *c, int *ass, float *d) {\n",
        "    int id = threadIdx.x + blockIdx.x * blockDim.x;\n",
        "    if (id >= n) return;\n",
        "\n",
        "    int best1, best2;\n",
        "\n",
        "    if (a[id] > b[id] && a[id] > c[id]) {\n",
        "        best1 = a[id];\n",
        "        best2 = (b[id] > c[id]) ? b[id] : c[id];\n",
        "    }\n",
        "    else if (b[id] > a[id] && b[id] > c[id]) {\n",
        "        best1 = b[id];\n",
        "        best2 = (a[id] > c[id]) ? a[id] : c[id];\n",
        "    }\n",
        "    else {\n",
        "        best1 = c[id];\n",
        "        best2 = (a[id] > b[id]) ? a[id] : b[id];\n",
        "    }\n",
        "\n",
        "    float r1 = best1 * 0.4f;\n",
        "    float r2 = best2 * 0.4f;\n",
        "\n",
        "    d[id] = r1 + r2 + ass[id];\n",
        "}\n",
        "\n",
        "int main() {\n",
        "    int c1[] = {32,46,33,50,34,12,44,47,21,25,43,33,45,11,14,16,49,48,41,31};\n",
        "    int c2[] = {7,25,41,12,36,3,48,15,28,50,22,9,44,19,33,1,30,46,11,5};\n",
        "    int c3[] = {8,27,42,16,35,4,49,23,12,31,18,2,46,39,25,7,44,14,21,50};\n",
        "    int ass[] = {3,7,1,9,5,2,8,10,6,4,7,2,9,1,8,5,3,10,6,4};\n",
        "\n",
        "    int *dc1, *dc2, *dc3, *dass;\n",
        "    float *dout;\n",
        "\n",
        "\n",
        "    cudaMalloc((void**)&dc1, sizeof(int)*n);\n",
        "    cudaMalloc((void**)&dc2, sizeof(int)*n);\n",
        "    cudaMalloc((void**)&dc3, sizeof(int)*n);\n",
        "    cudaMalloc((void**)&dass, sizeof(int)*n);\n",
        "    cudaMalloc((void**)&dout, sizeof(float)*n);\n",
        "\n",
        "\n",
        "    cudaMemcpy(dc1, c1, sizeof(int)*n, cudaMemcpyHostToDevice);\n",
        "    cudaMemcpy(dc2, c2, sizeof(int)*n, cudaMemcpyHostToDevice);\n",
        "    cudaMemcpy(dc3, c3, sizeof(int)*n, cudaMemcpyHostToDevice);\n",
        "    cudaMemcpy(dass, ass, sizeof(int)*n, cudaMemcpyHostToDevice);\n",
        "\n",
        "\n",
        "    calculate<<<1, n>>>(dc1, dc2, dc3, dass, dout);\n",
        "    cudaDeviceSynchronize();\n",
        "\n",
        "\n",
        "    float host[n];\n",
        "    cudaMemcpy(host, dout, sizeof(float)*n, cudaMemcpyDeviceToHost);\n",
        "\n",
        "\n",
        "    printf(\"Internal Marks are:\\n\");\n",
        "    for (int i = 0; i < n; i++) {\n",
        "        printf(\"%.2f \", host[i]);\n",
        "    }\n",
        "    printf(\"\\n\");\n",
        "\n",
        "\n",
        "    cudaFree(dc1);\n",
        "    cudaFree(dc2);\n",
        "    cudaFree(dc3);\n",
        "    cudaFree(dass);\n",
        "    cudaFree(dout);\n",
        "\n",
        "    return 0;\n",
        "}\n"
      ],
      "metadata": {
        "colab": {
          "base_uri": "https://localhost:8080/"
        },
        "id": "Y-6SkTDtMFsw",
        "outputId": "4e2dcdf1-da73-4e1f-866b-d849bf0502b7"
      },
      "execution_count": null,
      "outputs": [
        {
          "output_type": "stream",
          "name": "stdout",
          "text": [
            "Overwriting InternalMark.cu\n"
          ]
        }
      ]
    },
    {
      "cell_type": "code",
      "source": [
        "!nvcc -arch=sm_75 InternalMark.cu -o InternalMark\n",
        "!./InternalMark\n"
      ],
      "metadata": {
        "colab": {
          "base_uri": "https://localhost:8080/"
        },
        "id": "CANGGlPSMarp",
        "outputId": "62472113-79bc-46f6-e3ee-c1a68957a1e8"
      },
      "execution_count": null,
      "outputs": [
        {
          "output_type": "stream",
          "name": "stdout",
          "text": [
            "Internal Marks are:\n",
            "19.00 36.20 34.20 35.40 33.40 8.40 46.80 38.00 25.60 36.40 33.00 18.80 45.40 24.20 31.20 14.20 40.20 47.60 30.80 36.40 \n"
          ]
        }
      ]
    }
  ]
}